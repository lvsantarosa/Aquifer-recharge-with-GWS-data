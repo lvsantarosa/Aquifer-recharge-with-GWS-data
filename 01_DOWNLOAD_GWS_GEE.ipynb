{
  "nbformat": 4,
  "nbformat_minor": 0,
  "metadata": {
    "colab": {
      "provenance": []
    },
    "kernelspec": {
      "name": "python3",
      "display_name": "Python 3"
    },
    "language_info": {
      "name": "python"
    }
  },
  "cells": [
    {
      "cell_type": "markdown",
      "source": [
        "# **Preparação do ambiente Colab**"
      ],
      "metadata": {
        "id": "tXMEHIZnGEOZ"
      }
    },
    {
      "cell_type": "code",
      "execution_count": null,
      "metadata": {
        "id": "5ZJgdE2QuozL"
      },
      "outputs": [],
      "source": [
        "# Importando as bibliotecas\n",
        "import ee\n",
        "from google.colab import drive\n",
        "import geopandas as gpd\n",
        "import geemap"
      ]
    },
    {
      "cell_type": "code",
      "source": [
        "# Autenticação do Google Earth Engine\n",
        "ee.Authenticate()\n",
        "ee.Initialize(project='ee-lucasviturisantarosa')"
      ],
      "metadata": {
        "id": "pssAbaKUwPRR"
      },
      "execution_count": null,
      "outputs": []
    },
    {
      "cell_type": "code",
      "source": [
        "# Montar Google Drive\n",
        "drive.mount('/content/drive')"
      ],
      "metadata": {
        "id": "o5IjPVE5wWi6"
      },
      "execution_count": null,
      "outputs": []
    },
    {
      "cell_type": "code",
      "source": [
        "# Exemplo de download para os limites de um país\n",
        "aoi = ee.FeatureCollection('FAO/GAUL/2015/level0') \\\n",
        "         .filter(ee.Filter.eq('ADM0_NAME', 'Brazil')) \\\n",
        "         .geometry()\n",
        "\n",
        "aoi"
      ],
      "metadata": {
        "id": "mVAZANCZZHpy"
      },
      "execution_count": null,
      "outputs": []
    },
    {
      "cell_type": "markdown",
      "source": [
        "# **GroundWater Storage**\n",
        "\n",
        "https://developers.google.com/earth-engine/datasets/catalog/NASA_GLDAS_V022_CLSM_G025_DA1D#description"
      ],
      "metadata": {
        "id": "MUWabPTpK9xd"
      }
    },
    {
      "cell_type": "code",
      "source": [
        "# Definir os anos de interesse\n",
        "anos = range(2003, 2023)  # Exemplo de 2018 a 2023\n",
        "\n",
        "# Obter a geometria como lista de coordenadas para a exportação\n",
        "region = aoi\n",
        "\n",
        "# Definir o dataset e aplicar filtros de data\n",
        "dataset = ee.ImageCollection('NASA/GLDAS/V022/CLSM/G025/DA1D') \\\n",
        "            .filter(ee.Filter.date('2003-01-01', '2023-12-31')) \\\n",
        "            .select('GWS_tavg')\n",
        "\n",
        "# Função para calcular a média diária\n",
        "def calculate_daily_mean(ano, mes, dia):\n",
        "    start = ee.Date.fromYMD(ano, mes, dia)\n",
        "    end = start.advance(1, 'day')\n",
        "\n",
        "    daily_images = dataset.filterDate(start, end)\n",
        "    daily_mean = daily_images.mean().clip(aoi)\n",
        "\n",
        "    return daily_mean.set('ano', ano).set('mes', mes).set('dia', dia)\n",
        "\n",
        "# Função para exportar imagens para o Google Drive\n",
        "def export_image_to_drive(image, folder, description_prefix):\n",
        "    ano = image.get('ano').getInfo()\n",
        "    mes = image.get('mes').getInfo()\n",
        "    dia = image.get('dia').getInfo()\n",
        "\n",
        "    descricao = f'{description_prefix}_{ano:04d}_{mes:02d}_{dia:02d}'\n",
        "\n",
        "    task = ee.batch.Export.image.toDrive(\n",
        "        image=image,\n",
        "        description=descricao,\n",
        "        folder='GWS_UY',\n",
        "        scale=27830,  # Ajuste a escala conforme necessário\n",
        "        region=region,\n",
        "        maxPixels=1e13\n",
        "    )\n",
        "    task.start()\n",
        "    print(f'Exportação iniciada para: {descricao}')\n",
        "\n",
        "# Itera sobre anos, meses e dias, calcula a média diária e exporta as imagens\n",
        "for ano in anos:\n",
        "    for mes in range(1, 13):\n",
        "        days_in_month = ee.Date.fromYMD(ano, mes, 1).advance(1, 'month').difference(ee.Date.fromYMD(ano, mes, 1), 'day').getInfo()\n",
        "        for dia in range(1, int(days_in_month) + 1):\n",
        "            mean_image = calculate_daily_mean(ano, mes, dia)\n",
        "            export_image_to_drive(mean_image, 'GWS_UY', 'GWS_Diario_UY')\n"
      ],
      "metadata": {
        "collapsed": true,
        "id": "kHJXxQzhzD99"
      },
      "execution_count": null,
      "outputs": []
    }
  ]
}